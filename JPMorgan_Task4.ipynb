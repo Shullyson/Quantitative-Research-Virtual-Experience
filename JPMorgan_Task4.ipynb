{
 "cells": [
  {
   "cell_type": "code",
   "execution_count": 8,
   "metadata": {},
   "outputs": [
    {
     "name": "stderr",
     "output_type": "stream",
     "text": [
      "c:\\Users\\Etudiant FST\\.conda\\envs\\FaceRec\\lib\\site-packages\\pandas\\core\\arraylike.py:396: RuntimeWarning: divide by zero encountered in log\n",
      "  result = getattr(ufunc, method)(*inputs, **kwargs)\n"
     ]
    },
    {
     "name": "stdout",
     "output_type": "stream",
     "text": [
      "Optimal Bucket Boundaries: [408.         476.5251898  477.03575435 601.46732594 809.41752429\n",
      " 850.        ]\n",
      "Log Loss with Optimal Boundaries: 0.4277804350092782\n"
     ]
    }
   ],
   "source": [
    "import numpy as np\n",
    "import pandas as pd\n",
    "from scipy.optimize import minimize\n",
    "from sklearn.model_selection import train_test_split\n",
    "from sklearn.linear_model import LogisticRegression\n",
    "from sklearn.metrics import log_loss\n",
    "\n",
    "# Load data\n",
    "df = pd.read_csv('Task 3 and 4_Loan_Data.csv')\n",
    "\n",
    "train_data, test_data = train_test_split(df, test_size=0.2, random_state=42)\n",
    "\n",
    "# Train a logistic regression model (for demonstration purposes)\n",
    "X_train = train_data[['fico_score']]\n",
    "y_train = train_data['default']\n",
    "\n",
    "model = LogisticRegression()\n",
    "model.fit(X_train, y_train)\n",
    "\n",
    "# Predict default probabilities for the training set\n",
    "train_data['Predicted_Prob'] = model.predict_proba(X_train)[:, 1]\n",
    "\n",
    "# number o buckets\n",
    "num_buckets = 5\n",
    "\n",
    "# Initialize bucket boundaries\n",
    "initial_boundaries = np.linspace(df['fico_score'].min(), df['fico_score'].max(), num_buckets + 1)[1:-1]\n",
    "\n",
    "# Optimization objective: Negative log-likelihood\n",
    "def neg_log_likelihood(boundaries):\n",
    "    if any(np.diff(boundaries) <= 0):\n",
    "        return np.inf\n",
    "    buckets = np.concatenate([[df['fico_score'].min()], boundaries, [df['fico_score'].max()]])\n",
    "    \n",
    "    train_data['Bucket'] = pd.cut(train_data['fico_score'], bins=buckets, labels=False)\n",
    "    \n",
    "    bucket_counts = train_data.groupby('Bucket')['default'].agg(['count', 'sum']).fillna(0)\n",
    "    \n",
    "    bucket_probs = bucket_counts['sum'] / bucket_counts['count']\n",
    "    \n",
    "    neg_ll = -np.sum(np.log(bucket_probs))\n",
    "    \n",
    "    return neg_ll\n",
    "\n",
    "# Perform optimization\n",
    "result = minimize(neg_log_likelihood, initial_boundaries, method='Nelder-Mead', bounds=[(df['fico_score'].min(), df['fico_score'].max())] * (num_buckets - 1))\n",
    "\n",
    "# Get optimal boundaries\n",
    "optimal_boundaries = np.concatenate([[df['fico_score'].min()], result.x, [df['fico_score'].max()]])\n",
    "train_data['Optimal_Bucket'] = pd.cut(train_data['fico_score'], bins=optimal_boundaries, labels=False)\n",
    "\n",
    "# Calculate log loss using optimal boundaries\n",
    "logloss = log_loss(train_data['default'], train_data['Predicted_Prob'])\n",
    "print('Optimal Bucket Boundaries:', optimal_boundaries)\n",
    "print('Log Loss with Optimal Boundaries:', logloss)\n"
   ]
  }
 ],
 "metadata": {
  "kernelspec": {
   "display_name": "FaceRec",
   "language": "python",
   "name": "python3"
  },
  "language_info": {
   "codemirror_mode": {
    "name": "ipython",
    "version": 3
   },
   "file_extension": ".py",
   "mimetype": "text/x-python",
   "name": "python",
   "nbconvert_exporter": "python",
   "pygments_lexer": "ipython3",
   "version": "3.9.18"
  }
 },
 "nbformat": 4,
 "nbformat_minor": 2
}
